{
 "cells": [
  {
   "cell_type": "markdown",
   "id": "fad65083-dcff-425a-b6ff-ffb1a2d5ba15",
   "metadata": {},
   "source": [
    "# Anonymization task\n",
    "\n",
    "Let's compare several methods:\n",
    "\n",
    "- Microsoft Presidio\n",
    "- Flair\n",
    "- Llama 2\n",
    "- ChatGPT-4 32k\n",
    "\n",
    "Read about the performance of each below.l"
   ]
  },
  {
   "cell_type": "markdown",
   "id": "966ba0da-b83e-4aee-abf7-5c12b69b4f22",
   "metadata": {},
   "source": [
    "## Presidio: example from docs\n",
    "\n",
    "https://microsoft.github.io/presidio/getting_started/"
   ]
  },
  {
   "cell_type": "code",
   "execution_count": 84,
   "id": "f053bb56-89ef-4c13-b139-59f55b4a5648",
   "metadata": {},
   "outputs": [
    {
     "name": "stdout",
     "output_type": "stream",
     "text": [
      "[type: PHONE_NUMBER, start: 19, end: 31, score: 0.75]\n",
      "text: My phone number is <PHONE_NUMBER>\n",
      "items:\n",
      "[\n",
      "    {'start': 19, 'end': 33, 'entity_type': 'PHONE_NUMBER', 'text': '<PHONE_NUMBER>', 'operator': 'replace'}\n",
      "]\n",
      "\n"
     ]
    }
   ],
   "source": [
    "from presidio_analyzer import AnalyzerEngine\n",
    "from presidio_anonymizer import AnonymizerEngine\n",
    "\n",
    "text=\"My phone number is 212-555-5555\"\n",
    "\n",
    "# Set up the engine, loads the NLP module (spaCy model by default) \n",
    "# and other PII recognizers\n",
    "analyzer = AnalyzerEngine()\n",
    "\n",
    "# Call analyzer to get results\n",
    "results = analyzer.analyze(text=text,\n",
    "                           entities=[\"PHONE_NUMBER\"],\n",
    "                           language='en')\n",
    "print(results)\n",
    "\n",
    "# Analyzer results are passed to the AnonymizerEngine for anonymization\n",
    "\n",
    "anonymizer = AnonymizerEngine()\n",
    "\n",
    "anonymized_text = anonymizer.anonymize(text=text,analyzer_results=results)\n",
    "\n",
    "print(anonymized_text)"
   ]
  },
  {
   "cell_type": "markdown",
   "id": "c62475de-b7e0-405f-9c66-1c35ca803105",
   "metadata": {},
   "source": [
    "## NPD data"
   ]
  },
  {
   "cell_type": "code",
   "execution_count": 85,
   "id": "8c5ef6a2-190c-4487-b31f-fa7511bc3c47",
   "metadata": {},
   "outputs": [
    {
     "name": "stderr",
     "output_type": "stream",
     "text": [
      "/Users/MTHA/miniconda3/envs/py311/lib/python3.11/site-packages/datasets/table.py:1421: FutureWarning: promote has been superseded by mode='default'.\n",
      "  table = cls._concat_blocks(blocks, axis=0)\n"
     ]
    }
   ],
   "source": [
    "from datasets import load_dataset, ClassLabel, Value, Features\n",
    "\n",
    "features = Features({'doc_id': Value('string'), 'meta': Value('string'), 'raw_content': Value('string')})\n",
    "\n",
    "force_llm_dataset_scrubbed = load_dataset(\"json\", data_files=\"../data/force_llm_corpus_scrubbed.jsonl\", features=features)"
   ]
  },
  {
   "cell_type": "code",
   "execution_count": 86,
   "id": "8d7a0695-79ff-4fd4-a49f-d895f301a3a1",
   "metadata": {},
   "outputs": [
    {
     "data": {
      "text/plain": [
       "DatasetDict({\n",
       "    train: Dataset({\n",
       "        features: ['doc_id', 'meta', 'raw_content'],\n",
       "        num_rows: 2941971\n",
       "    })\n",
       "})"
      ]
     },
     "execution_count": 86,
     "metadata": {},
     "output_type": "execute_result"
    }
   ],
   "source": [
    "force_llm_dataset_scrubbed"
   ]
  },
  {
   "cell_type": "code",
   "execution_count": 87,
   "id": "b0726e63-2784-45bb-b7d0-d7ebb6583209",
   "metadata": {},
   "outputs": [
    {
     "data": {
      "text/plain": [
       "\"2.2 HSEQ On the M07-07 well number of incidents/near misses occurred, as indicated below: The first incident happened during the rig move on the 1st of June 2010. The rig was pinned on stand-off location at Cirrus M7-A platform. The anchor was issued to tug MV Elbe. It is not clear what exactly happened, the statement of the IP was not clear. Deck crew was connecting the towing wire with shackle to the buoy. The IP was inserting safety pin when the wire suddenly tensioned. The thumb of the IP's left hand got trapped between the shackle and the Karmfork. The statement of the IP is not clear as he himself did not comprehend what happened. The captain of the Elbe required medical assistance from the rig medic. The IP was capable of walking to and stepping on the Billy Pugh for transport with assistance of NLB crewmember. On board the IP was examined. The IP had trapped his left thumb sustaining approximately 2cm open wound over the top of first left thumb joint On the 4th of July 2010, the second incident occurred, 30 cc base oil spilled into sea. The problem occurred with the base oil wash pump for the shakers. The SCS engineer changed out the pump for spare. He disconnected the used pump and lined up spare pump. It was observed that base oil drips were coming from the beam below shakers. The shaker hand closed in base oil supply. It was determined that there was failure of seal on the crowfoot hose connection. The beams were cleaned instantly with rags and no further oil dripped into the sea. On the 6th of July, the third incident occurred while drilling the 12 1/4 hole with three mud pumps on line and 1/2 liners installed. The pump pressure was steady at 4100psi while pumping 915 gpm. significant pressure drop was observed, it was thought the reason was due to one off the pop-offs going off. Mechanical pop-offs Retsco type 'C' are set at 4800 psi and electrical pop-offs at 4600 psi. Upon further investigation of the pump room, it was discovered that the upper body had parted from the lower body due to shearing of the cap screws which hold the bodies together.\""
      ]
     },
     "execution_count": 87,
     "metadata": {},
     "output_type": "execute_result"
    }
   ],
   "source": [
    "text = force_llm_dataset_scrubbed['train'][140]['raw_content']\n",
    "text"
   ]
  },
  {
   "cell_type": "markdown",
   "id": "3bf88ace-35c2-4585-8961-9eaf983a8cda",
   "metadata": {},
   "source": [
    "### Add some PII"
   ]
  },
  {
   "cell_type": "code",
   "execution_count": 89,
   "id": "847e7f64-7e5d-418f-9d6c-b42c19cb5c7d",
   "metadata": {},
   "outputs": [
    {
     "data": {
      "text/plain": [
       "\"2.2 HSEQ On the M07-07 well number of incidents/near misses occurred, as indicated below: The first incident happened during the rig move on the 1st of June 2010. The rig was pinned on stand-off location at Cirrus M7-A platform. The anchor was issued to tug MV Elbe. It is not clear what exactly happened, the statement of the IP was not clear. Deck crew was connecting the towing wire with shackle to the buoy. The IP was inserting safety pin when the wire suddenly tensioned. The thumb of the IP's left hand got trapped between the shackle and the Karmfork. The statement of the IP is not clear as he himself did not comprehend what happened. The captain of the Elbe required medical assistance from the rig medic. The IP was capable of walking to and stepping on the Billy Pugh for transport with assistance of NLB crewmember. On board the IP was examined. The IP had trapped his left thumb sustaining approximately 2cm open wound over the top of first left thumb joint On the 4th of July 2010, the second incident occurred, 30 cc base oil spilled into sea. The problem occurred with the base oil wash pump for the shakers. Lars Hansen (the SCS engineer) changed out the pump for spare. He disconnected the used pump and lined up spare pump. It was observed that base oil drips were coming from the beam below shakers. The shaker hand closed in base oil supply. It was determined that there was failure of seal on the crowfoot hose connection. The beams were cleaned instantly with rags and no further oil dripped into the sea. On the 6th of July, the third incident occurred while drilling the 12 1/4 hole with three mud pumps on line and 1/2 liners installed. The pump pressure was steady at 4100psi while pumping 915 gpm. significant pressure drop was observed, it was thought the reason was due to one off the pop-offs going off. Mechanical pop-offs Retsco type 'C' are set at 4800 psi and electrical pop-offs at 4600 psi. Upon further investigation of the pump room, it was discovered that the upper body had parted from the lower body due to shearing of the cap screws which hold the bodies together.\""
      ]
     },
     "execution_count": 89,
     "metadata": {},
     "output_type": "execute_result"
    }
   ],
   "source": [
    "text = \"\"\"2.2 HSEQ On the M07-07 well number of incidents/near misses occurred, as indicated below: The first incident happened during the rig move on the 1st of June 2010. The rig was pinned on stand-off location at Cirrus M7-A platform. The anchor was issued to tug MV Elbe. It is not clear what exactly happened, the statement of the IP was not clear. Deck crew was connecting the towing wire with shackle to the buoy. The IP was inserting safety pin when the wire suddenly tensioned. The thumb of the IP's left hand got trapped between the shackle and the Karmfork. The statement of the IP is not clear as he himself did not comprehend what happened. The captain of the Elbe required medical assistance from the rig medic. The IP was capable of walking to and stepping on the Billy Pugh for transport with assistance of NLB crewmember. On board the IP was examined. The IP had trapped his left thumb sustaining approximately 2cm open wound over the top of first left thumb joint On the 4th of July 2010, the second incident occurred, 30 cc base oil spilled into sea. The problem occurred with the base oil wash pump for the shakers. Lars Hansen (the SCS engineer) changed out the pump for spare. He disconnected the used pump and lined up spare pump. It was observed that base oil drips were coming from the beam below shakers. The shaker hand closed in base oil supply. It was determined that there was failure of seal on the crowfoot hose connection. The beams were cleaned instantly with rags and no further oil dripped into the sea. On the 6th of July, the third incident occurred while drilling the 12 1/4 hole with three mud pumps on line and 1/2 liners installed. The pump pressure was steady at 4100psi while pumping 915 gpm. significant pressure drop was observed, it was thought the reason was due to one off the pop-offs going off. Mechanical pop-offs Retsco type 'C' are set at 4800 psi and electrical pop-offs at 4600 psi. Upon further investigation of the pump room, it was discovered that the upper body had parted from the lower body due to shearing of the cap screws which hold the bodies together.\"\"\"\n",
    "text"
   ]
  },
  {
   "cell_type": "code",
   "execution_count": 90,
   "id": "77ac9851-8e4b-4c29-b017-510d8665d3b3",
   "metadata": {},
   "outputs": [
    {
     "name": "stdout",
     "output_type": "stream",
     "text": [
      "[type: PERSON, start: 16, end: 19, score: 0.85, type: PERSON, start: 550, end: 558, score: 0.85, type: PERSON, start: 766, end: 780, score: 0.85, type: PERSON, start: 1127, end: 1138, score: 0.85]\n"
     ]
    }
   ],
   "source": [
    "results = analyzer.analyze(text=text,\n",
    "                           entities=[\"PERSON\", \"PHONE_NUMBER\", \"EMAIL_ADDRESS\"],\n",
    "                           language='en')\n",
    "print(results)"
   ]
  },
  {
   "cell_type": "code",
   "execution_count": 91,
   "id": "f5fad326-0518-41cb-80e8-c8de7da8ca2a",
   "metadata": {},
   "outputs": [
    {
     "name": "stdout",
     "output_type": "stream",
     "text": [
      "text: 2.2 HSEQ On the <PERSON>-07 well number of incidents/near misses occurred, as indicated below: The first incident happened during the rig move on the 1st of June 2010. The rig was pinned on stand-off location at Cirrus M7-A platform. The anchor was issued to tug MV Elbe. It is not clear what exactly happened, the statement of the IP was not clear. Deck crew was connecting the towing wire with shackle to the buoy. The IP was inserting safety pin when the wire suddenly tensioned. The thumb of the IP's left hand got trapped between the shackle and the <PERSON>. The statement of the IP is not clear as he himself did not comprehend what happened. The captain of the Elbe required medical assistance from the rig medic. The IP was capable of walking to and stepping on <PERSON> for transport with assistance of NLB crewmember. On board the IP was examined. The IP had trapped his left thumb sustaining approximately 2cm open wound over the top of first left thumb joint On the 4th of July 2010, the second incident occurred, 30 cc base oil spilled into sea. The problem occurred with the base oil wash pump for the shakers. <PERSON> (the SCS engineer) changed out the pump for spare. He disconnected the used pump and lined up spare pump. It was observed that base oil drips were coming from the beam below shakers. The shaker hand closed in base oil supply. It was determined that there was failure of seal on the crowfoot hose connection. The beams were cleaned instantly with rags and no further oil dripped into the sea. On the 6th of July, the third incident occurred while drilling the 12 1/4 hole with three mud pumps on line and 1/2 liners installed. The pump pressure was steady at 4100psi while pumping 915 gpm. significant pressure drop was observed, it was thought the reason was due to one off the pop-offs going off. Mechanical pop-offs Retsco type 'C' are set at 4800 psi and electrical pop-offs at 4600 psi. Upon further investigation of the pump room, it was discovered that the upper body had parted from the lower body due to shearing of the cap screws which hold the bodies together.\n",
      "items:\n",
      "[\n",
      "    {'start': 1126, 'end': 1134, 'entity_type': 'PERSON', 'text': '<PERSON>', 'operator': 'replace'},\n",
      "    {'start': 771, 'end': 779, 'entity_type': 'PERSON', 'text': '<PERSON>', 'operator': 'replace'},\n",
      "    {'start': 555, 'end': 563, 'entity_type': 'PERSON', 'text': '<PERSON>', 'operator': 'replace'},\n",
      "    {'start': 16, 'end': 24, 'entity_type': 'PERSON', 'text': '<PERSON>', 'operator': 'replace'}\n",
      "]\n",
      "\n"
     ]
    }
   ],
   "source": [
    "anonymizer = AnonymizerEngine()\n",
    "\n",
    "anonymized_text = anonymizer.anonymize(text=text,analyzer_results=results)\n",
    "\n",
    "print(anonymized_text)"
   ]
  },
  {
   "cell_type": "markdown",
   "id": "ff0461d5-b019-4db0-957e-1b3c63d281d5",
   "metadata": {},
   "source": [
    "## Try `flair`\n",
    "\n",
    "https://github.com/flairNLP/flair"
   ]
  },
  {
   "cell_type": "code",
   "execution_count": 92,
   "id": "26c1072d-3a79-4d9d-b20b-09fa64afc277",
   "metadata": {},
   "outputs": [
    {
     "name": "stdout",
     "output_type": "stream",
     "text": [
      "2023-12-04 14:27:42,340 SequenceTagger predicts: Dictionary with 20 tags: <unk>, O, S-ORG, S-MISC, B-PER, E-PER, S-LOC, B-ORG, E-ORG, I-PER, S-PER, B-MISC, I-MISC, E-MISC, I-ORG, B-LOC, E-LOC, I-LOC, <START>, <STOP>\n"
     ]
    }
   ],
   "source": [
    "from flair.data import Sentence\n",
    "from flair.nn import Classifier\n",
    "\n",
    "# load the NER tagger\n",
    "tagger = Classifier.load('ner')"
   ]
  },
  {
   "cell_type": "code",
   "execution_count": 93,
   "id": "7afc9840-bf4b-4654-b67d-93078ca7e249",
   "metadata": {},
   "outputs": [
    {
     "name": "stdout",
     "output_type": "stream",
     "text": [
      "Sentence[421]: \"2.2 HSEQ On the M07-07 well number of incidents/near misses occurred, as indicated below: The first incident happened during the rig move on the 1st of June 2010. The rig was pinned on stand-off location at Cirrus M7-A platform. The anchor was issued to tug MV Elbe. It is not clear what exactly happened, the statement of the IP was not clear. Deck crew was connecting the towing wire with shackle to the buoy. The IP was inserting safety pin when the wire suddenly tensioned. The thumb of the IP's left hand got trapped between the shackle and the Karmfork. The statement of the IP is not clear as he himself did not comprehend what happened. The captain of the Elbe required medical assistance from the rig medic. The IP was capable of walking to and stepping on the Billy Pugh for transport with assistance of NLB crewmember. On board the IP was examined. The IP had trapped his left thumb sustaining approximately 2cm open wound over the top of first left thumb joint On the 4th of July 2010, the second incident occurred, 30 cc base oil spilled into sea. The problem occurred with the base oil wash pump for the shakers. Lars Hansen (the SCS engineer) changed out the pump for spare. He disconnected the used pump and lined up spare pump. It was observed that base oil drips were coming from the beam below shakers. The shaker hand closed in base oil supply. It was determined that there was failure of seal on the crowfoot hose connection. The beams were cleaned instantly with rags and no further oil dripped into the sea. On the 6th of July, the third incident occurred while drilling the 12 1/4 hole with three mud pumps on line and 1/2 liners installed. The pump pressure was steady at 4100psi while pumping 915 gpm. significant pressure drop was observed, it was thought the reason was due to one off the pop-offs going off. Mechanical pop-offs Retsco type 'C' are set at 4800 psi and electrical pop-offs at 4600 psi. Upon further investigation of the pump room, it was discovered that the upper body had parted from the lower body due to shearing of the cap screws which hold the bodies together.\" → [\"Cirrus M7-A\"/ORG, \"MV Elbe\"/ORG, \"Karmfork\"/LOC, \"Elbe\"/LOC, \"Billy Pugh\"/PER, \"NLB\"/ORG, \"IP\"/ORG, \"Lars Hansen\"/PER, \"SCS\"/ORG, \"Retsco\"/MISC]\n"
     ]
    }
   ],
   "source": [
    "# make a sentence\n",
    "sentence = Sentence(text)\n",
    "\n",
    "# run NER over sentence\n",
    "tagger.predict(sentence)\n",
    "\n",
    "# print the sentence with all annotations\n",
    "print(sentence)"
   ]
  },
  {
   "cell_type": "markdown",
   "id": "abc1f854-7f92-48d9-b20c-d01f5f810590",
   "metadata": {},
   "source": [
    "## LLAMA 2\n",
    "\n",
    "Following more or less https://swharden.com/blog/2023-07-29-ai-chat-locally-with-python/\n",
    "\n",
    "Using https://huggingface.co/TheBloke/Llama-2-7B-Chat-GGML/blob/main/llama-2-7b-chat.ggmlv3.q8_0.bin"
   ]
  },
  {
   "cell_type": "code",
   "execution_count": 94,
   "id": "ffcf8354-74c9-4417-80ac-544598423b1d",
   "metadata": {},
   "outputs": [
    {
     "name": "stderr",
     "output_type": "stream",
     "text": [
      "llama_model_loader: loaded meta data with 19 key-value pairs and 291 tensors from ../data/llama/llama-2-7b-chat.ggmlv3.q8_0.gguf (version GGUF V3 (latest))\n",
      "llama_model_loader: - tensor    0:                token_embd.weight q8_0     [  4096, 32000,     1,     1 ]\n",
      "llama_model_loader: - tensor    1:               output_norm.weight f32      [  4096,     1,     1,     1 ]\n",
      "llama_model_loader: - tensor    2:                    output.weight q8_0     [  4096, 32000,     1,     1 ]\n",
      "llama_model_loader: - tensor    3:              blk.0.attn_q.weight q8_0     [  4096,  4096,     1,     1 ]\n",
      "llama_model_loader: - tensor    4:              blk.0.attn_k.weight q8_0     [  4096,  4096,     1,     1 ]\n",
      "llama_model_loader: - tensor    5:              blk.0.attn_v.weight q8_0     [  4096,  4096,     1,     1 ]\n",
      "llama_model_loader: - tensor    6:         blk.0.attn_output.weight q8_0     [  4096,  4096,     1,     1 ]\n",
      "llama_model_loader: - tensor    7:           blk.0.attn_norm.weight f32      [  4096,     1,     1,     1 ]\n",
      "llama_model_loader: - tensor    8:            blk.0.ffn_gate.weight q8_0     [  4096, 11008,     1,     1 ]\n",
      "llama_model_loader: - tensor    9:            blk.0.ffn_down.weight q8_0     [ 11008,  4096,     1,     1 ]\n",
      "llama_model_loader: - tensor   10:              blk.0.ffn_up.weight q8_0     [  4096, 11008,     1,     1 ]\n",
      "llama_model_loader: - tensor   11:            blk.0.ffn_norm.weight f32      [  4096,     1,     1,     1 ]\n",
      "llama_model_loader: - tensor   12:              blk.1.attn_q.weight q8_0     [  4096,  4096,     1,     1 ]\n",
      "llama_model_loader: - tensor   13:              blk.1.attn_k.weight q8_0     [  4096,  4096,     1,     1 ]\n",
      "llama_model_loader: - tensor   14:              blk.1.attn_v.weight q8_0     [  4096,  4096,     1,     1 ]\n",
      "llama_model_loader: - tensor   15:         blk.1.attn_output.weight q8_0     [  4096,  4096,     1,     1 ]\n",
      "llama_model_loader: - tensor   16:           blk.1.attn_norm.weight f32      [  4096,     1,     1,     1 ]\n",
      "llama_model_loader: - tensor   17:            blk.1.ffn_gate.weight q8_0     [  4096, 11008,     1,     1 ]\n",
      "llama_model_loader: - tensor   18:            blk.1.ffn_down.weight q8_0     [ 11008,  4096,     1,     1 ]\n",
      "llama_model_loader: - tensor   19:              blk.1.ffn_up.weight q8_0     [  4096, 11008,     1,     1 ]\n",
      "llama_model_loader: - tensor   20:            blk.1.ffn_norm.weight f32      [  4096,     1,     1,     1 ]\n",
      "llama_model_loader: - tensor   21:              blk.2.attn_q.weight q8_0     [  4096,  4096,     1,     1 ]\n",
      "llama_model_loader: - tensor   22:              blk.2.attn_k.weight q8_0     [  4096,  4096,     1,     1 ]\n",
      "llama_model_loader: - tensor   23:              blk.2.attn_v.weight q8_0     [  4096,  4096,     1,     1 ]\n",
      "llama_model_loader: - tensor   24:         blk.2.attn_output.weight q8_0     [  4096,  4096,     1,     1 ]\n",
      "llama_model_loader: - tensor   25:           blk.2.attn_norm.weight f32      [  4096,     1,     1,     1 ]\n",
      "llama_model_loader: - tensor   26:            blk.2.ffn_gate.weight q8_0     [  4096, 11008,     1,     1 ]\n",
      "llama_model_loader: - tensor   27:            blk.2.ffn_down.weight q8_0     [ 11008,  4096,     1,     1 ]\n",
      "llama_model_loader: - tensor   28:              blk.2.ffn_up.weight q8_0     [  4096, 11008,     1,     1 ]\n",
      "llama_model_loader: - tensor   29:            blk.2.ffn_norm.weight f32      [  4096,     1,     1,     1 ]\n",
      "llama_model_loader: - tensor   30:              blk.3.attn_q.weight q8_0     [  4096,  4096,     1,     1 ]\n",
      "llama_model_loader: - tensor   31:              blk.3.attn_k.weight q8_0     [  4096,  4096,     1,     1 ]\n",
      "llama_model_loader: - tensor   32:              blk.3.attn_v.weight q8_0     [  4096,  4096,     1,     1 ]\n",
      "llama_model_loader: - tensor   33:         blk.3.attn_output.weight q8_0     [  4096,  4096,     1,     1 ]\n",
      "llama_model_loader: - tensor   34:           blk.3.attn_norm.weight f32      [  4096,     1,     1,     1 ]\n",
      "llama_model_loader: - tensor   35:            blk.3.ffn_gate.weight q8_0     [  4096, 11008,     1,     1 ]\n",
      "llama_model_loader: - tensor   36:            blk.3.ffn_down.weight q8_0     [ 11008,  4096,     1,     1 ]\n",
      "llama_model_loader: - tensor   37:              blk.3.ffn_up.weight q8_0     [  4096, 11008,     1,     1 ]\n",
      "llama_model_loader: - tensor   38:            blk.3.ffn_norm.weight f32      [  4096,     1,     1,     1 ]\n",
      "llama_model_loader: - tensor   39:              blk.4.attn_q.weight q8_0     [  4096,  4096,     1,     1 ]\n",
      "llama_model_loader: - tensor   40:              blk.4.attn_k.weight q8_0     [  4096,  4096,     1,     1 ]\n",
      "llama_model_loader: - tensor   41:              blk.4.attn_v.weight q8_0     [  4096,  4096,     1,     1 ]\n",
      "llama_model_loader: - tensor   42:         blk.4.attn_output.weight q8_0     [  4096,  4096,     1,     1 ]\n",
      "llama_model_loader: - tensor   43:           blk.4.attn_norm.weight f32      [  4096,     1,     1,     1 ]\n",
      "llama_model_loader: - tensor   44:            blk.4.ffn_gate.weight q8_0     [  4096, 11008,     1,     1 ]\n",
      "llama_model_loader: - tensor   45:            blk.4.ffn_down.weight q8_0     [ 11008,  4096,     1,     1 ]\n",
      "llama_model_loader: - tensor   46:              blk.4.ffn_up.weight q8_0     [  4096, 11008,     1,     1 ]\n",
      "llama_model_loader: - tensor   47:            blk.4.ffn_norm.weight f32      [  4096,     1,     1,     1 ]\n",
      "llama_model_loader: - tensor   48:              blk.5.attn_q.weight q8_0     [  4096,  4096,     1,     1 ]\n",
      "llama_model_loader: - tensor   49:              blk.5.attn_k.weight q8_0     [  4096,  4096,     1,     1 ]\n",
      "llama_model_loader: - tensor   50:              blk.5.attn_v.weight q8_0     [  4096,  4096,     1,     1 ]\n",
      "llama_model_loader: - tensor   51:         blk.5.attn_output.weight q8_0     [  4096,  4096,     1,     1 ]\n",
      "llama_model_loader: - tensor   52:           blk.5.attn_norm.weight f32      [  4096,     1,     1,     1 ]\n",
      "llama_model_loader: - tensor   53:            blk.5.ffn_gate.weight q8_0     [  4096, 11008,     1,     1 ]\n",
      "llama_model_loader: - tensor   54:            blk.5.ffn_down.weight q8_0     [ 11008,  4096,     1,     1 ]\n",
      "llama_model_loader: - tensor   55:              blk.5.ffn_up.weight q8_0     [  4096, 11008,     1,     1 ]\n",
      "llama_model_loader: - tensor   56:            blk.5.ffn_norm.weight f32      [  4096,     1,     1,     1 ]\n",
      "llama_model_loader: - tensor   57:              blk.6.attn_q.weight q8_0     [  4096,  4096,     1,     1 ]\n",
      "llama_model_loader: - tensor   58:              blk.6.attn_k.weight q8_0     [  4096,  4096,     1,     1 ]\n",
      "llama_model_loader: - tensor   59:              blk.6.attn_v.weight q8_0     [  4096,  4096,     1,     1 ]\n",
      "llama_model_loader: - tensor   60:         blk.6.attn_output.weight q8_0     [  4096,  4096,     1,     1 ]\n",
      "llama_model_loader: - tensor   61:           blk.6.attn_norm.weight f32      [  4096,     1,     1,     1 ]\n",
      "llama_model_loader: - tensor   62:            blk.6.ffn_gate.weight q8_0     [  4096, 11008,     1,     1 ]\n",
      "llama_model_loader: - tensor   63:            blk.6.ffn_down.weight q8_0     [ 11008,  4096,     1,     1 ]\n",
      "llama_model_loader: - tensor   64:              blk.6.ffn_up.weight q8_0     [  4096, 11008,     1,     1 ]\n",
      "llama_model_loader: - tensor   65:            blk.6.ffn_norm.weight f32      [  4096,     1,     1,     1 ]\n",
      "llama_model_loader: - tensor   66:              blk.7.attn_q.weight q8_0     [  4096,  4096,     1,     1 ]\n",
      "llama_model_loader: - tensor   67:              blk.7.attn_k.weight q8_0     [  4096,  4096,     1,     1 ]\n",
      "llama_model_loader: - tensor   68:              blk.7.attn_v.weight q8_0     [  4096,  4096,     1,     1 ]\n",
      "llama_model_loader: - tensor   69:         blk.7.attn_output.weight q8_0     [  4096,  4096,     1,     1 ]\n",
      "llama_model_loader: - tensor   70:           blk.7.attn_norm.weight f32      [  4096,     1,     1,     1 ]\n",
      "llama_model_loader: - tensor   71:            blk.7.ffn_gate.weight q8_0     [  4096, 11008,     1,     1 ]\n",
      "llama_model_loader: - tensor   72:            blk.7.ffn_down.weight q8_0     [ 11008,  4096,     1,     1 ]\n",
      "llama_model_loader: - tensor   73:              blk.7.ffn_up.weight q8_0     [  4096, 11008,     1,     1 ]\n",
      "llama_model_loader: - tensor   74:            blk.7.ffn_norm.weight f32      [  4096,     1,     1,     1 ]\n",
      "llama_model_loader: - tensor   75:              blk.8.attn_q.weight q8_0     [  4096,  4096,     1,     1 ]\n",
      "llama_model_loader: - tensor   76:              blk.8.attn_k.weight q8_0     [  4096,  4096,     1,     1 ]\n",
      "llama_model_loader: - tensor   77:              blk.8.attn_v.weight q8_0     [  4096,  4096,     1,     1 ]\n",
      "llama_model_loader: - tensor   78:         blk.8.attn_output.weight q8_0     [  4096,  4096,     1,     1 ]\n",
      "llama_model_loader: - tensor   79:           blk.8.attn_norm.weight f32      [  4096,     1,     1,     1 ]\n",
      "llama_model_loader: - tensor   80:            blk.8.ffn_gate.weight q8_0     [  4096, 11008,     1,     1 ]\n",
      "llama_model_loader: - tensor   81:            blk.8.ffn_down.weight q8_0     [ 11008,  4096,     1,     1 ]\n",
      "llama_model_loader: - tensor   82:              blk.8.ffn_up.weight q8_0     [  4096, 11008,     1,     1 ]\n",
      "llama_model_loader: - tensor   83:            blk.8.ffn_norm.weight f32      [  4096,     1,     1,     1 ]\n",
      "llama_model_loader: - tensor   84:              blk.9.attn_q.weight q8_0     [  4096,  4096,     1,     1 ]\n",
      "llama_model_loader: - tensor   85:              blk.9.attn_k.weight q8_0     [  4096,  4096,     1,     1 ]\n",
      "llama_model_loader: - tensor   86:              blk.9.attn_v.weight q8_0     [  4096,  4096,     1,     1 ]\n",
      "llama_model_loader: - tensor   87:         blk.9.attn_output.weight q8_0     [  4096,  4096,     1,     1 ]\n",
      "llama_model_loader: - tensor   88:           blk.9.attn_norm.weight f32      [  4096,     1,     1,     1 ]\n",
      "llama_model_loader: - tensor   89:            blk.9.ffn_gate.weight q8_0     [  4096, 11008,     1,     1 ]\n",
      "llama_model_loader: - tensor   90:            blk.9.ffn_down.weight q8_0     [ 11008,  4096,     1,     1 ]\n",
      "llama_model_loader: - tensor   91:              blk.9.ffn_up.weight q8_0     [  4096, 11008,     1,     1 ]\n",
      "llama_model_loader: - tensor   92:            blk.9.ffn_norm.weight f32      [  4096,     1,     1,     1 ]\n",
      "llama_model_loader: - tensor   93:             blk.10.attn_q.weight q8_0     [  4096,  4096,     1,     1 ]\n",
      "llama_model_loader: - tensor   94:             blk.10.attn_k.weight q8_0     [  4096,  4096,     1,     1 ]\n",
      "llama_model_loader: - tensor   95:             blk.10.attn_v.weight q8_0     [  4096,  4096,     1,     1 ]\n",
      "llama_model_loader: - tensor   96:        blk.10.attn_output.weight q8_0     [  4096,  4096,     1,     1 ]\n",
      "llama_model_loader: - tensor   97:          blk.10.attn_norm.weight f32      [  4096,     1,     1,     1 ]\n",
      "llama_model_loader: - tensor   98:           blk.10.ffn_gate.weight q8_0     [  4096, 11008,     1,     1 ]\n",
      "llama_model_loader: - tensor   99:           blk.10.ffn_down.weight q8_0     [ 11008,  4096,     1,     1 ]\n",
      "llama_model_loader: - tensor  100:             blk.10.ffn_up.weight q8_0     [  4096, 11008,     1,     1 ]\n",
      "llama_model_loader: - tensor  101:           blk.10.ffn_norm.weight f32      [  4096,     1,     1,     1 ]\n",
      "llama_model_loader: - tensor  102:             blk.11.attn_q.weight q8_0     [  4096,  4096,     1,     1 ]\n",
      "llama_model_loader: - tensor  103:             blk.11.attn_k.weight q8_0     [  4096,  4096,     1,     1 ]\n",
      "llama_model_loader: - tensor  104:             blk.11.attn_v.weight q8_0     [  4096,  4096,     1,     1 ]\n",
      "llama_model_loader: - tensor  105:        blk.11.attn_output.weight q8_0     [  4096,  4096,     1,     1 ]\n",
      "llama_model_loader: - tensor  106:          blk.11.attn_norm.weight f32      [  4096,     1,     1,     1 ]\n",
      "llama_model_loader: - tensor  107:           blk.11.ffn_gate.weight q8_0     [  4096, 11008,     1,     1 ]\n",
      "llama_model_loader: - tensor  108:           blk.11.ffn_down.weight q8_0     [ 11008,  4096,     1,     1 ]\n",
      "llama_model_loader: - tensor  109:             blk.11.ffn_up.weight q8_0     [  4096, 11008,     1,     1 ]\n",
      "llama_model_loader: - tensor  110:           blk.11.ffn_norm.weight f32      [  4096,     1,     1,     1 ]\n",
      "llama_model_loader: - tensor  111:             blk.12.attn_q.weight q8_0     [  4096,  4096,     1,     1 ]\n",
      "llama_model_loader: - tensor  112:             blk.12.attn_k.weight q8_0     [  4096,  4096,     1,     1 ]\n",
      "llama_model_loader: - tensor  113:             blk.12.attn_v.weight q8_0     [  4096,  4096,     1,     1 ]\n",
      "llama_model_loader: - tensor  114:        blk.12.attn_output.weight q8_0     [  4096,  4096,     1,     1 ]\n",
      "llama_model_loader: - tensor  115:          blk.12.attn_norm.weight f32      [  4096,     1,     1,     1 ]\n",
      "llama_model_loader: - tensor  116:           blk.12.ffn_gate.weight q8_0     [  4096, 11008,     1,     1 ]\n",
      "llama_model_loader: - tensor  117:           blk.12.ffn_down.weight q8_0     [ 11008,  4096,     1,     1 ]\n",
      "llama_model_loader: - tensor  118:             blk.12.ffn_up.weight q8_0     [  4096, 11008,     1,     1 ]\n",
      "llama_model_loader: - tensor  119:           blk.12.ffn_norm.weight f32      [  4096,     1,     1,     1 ]\n",
      "llama_model_loader: - tensor  120:             blk.13.attn_q.weight q8_0     [  4096,  4096,     1,     1 ]\n",
      "llama_model_loader: - tensor  121:             blk.13.attn_k.weight q8_0     [  4096,  4096,     1,     1 ]\n",
      "llama_model_loader: - tensor  122:             blk.13.attn_v.weight q8_0     [  4096,  4096,     1,     1 ]\n",
      "llama_model_loader: - tensor  123:        blk.13.attn_output.weight q8_0     [  4096,  4096,     1,     1 ]\n",
      "llama_model_loader: - tensor  124:          blk.13.attn_norm.weight f32      [  4096,     1,     1,     1 ]\n",
      "llama_model_loader: - tensor  125:           blk.13.ffn_gate.weight q8_0     [  4096, 11008,     1,     1 ]\n",
      "llama_model_loader: - tensor  126:           blk.13.ffn_down.weight q8_0     [ 11008,  4096,     1,     1 ]\n",
      "llama_model_loader: - tensor  127:             blk.13.ffn_up.weight q8_0     [  4096, 11008,     1,     1 ]\n",
      "llama_model_loader: - tensor  128:           blk.13.ffn_norm.weight f32      [  4096,     1,     1,     1 ]\n",
      "llama_model_loader: - tensor  129:             blk.14.attn_q.weight q8_0     [  4096,  4096,     1,     1 ]\n",
      "llama_model_loader: - tensor  130:             blk.14.attn_k.weight q8_0     [  4096,  4096,     1,     1 ]\n",
      "llama_model_loader: - tensor  131:             blk.14.attn_v.weight q8_0     [  4096,  4096,     1,     1 ]\n",
      "llama_model_loader: - tensor  132:        blk.14.attn_output.weight q8_0     [  4096,  4096,     1,     1 ]\n",
      "llama_model_loader: - tensor  133:          blk.14.attn_norm.weight f32      [  4096,     1,     1,     1 ]\n",
      "llama_model_loader: - tensor  134:           blk.14.ffn_gate.weight q8_0     [  4096, 11008,     1,     1 ]\n",
      "llama_model_loader: - tensor  135:           blk.14.ffn_down.weight q8_0     [ 11008,  4096,     1,     1 ]\n",
      "llama_model_loader: - tensor  136:             blk.14.ffn_up.weight q8_0     [  4096, 11008,     1,     1 ]\n",
      "llama_model_loader: - tensor  137:           blk.14.ffn_norm.weight f32      [  4096,     1,     1,     1 ]\n",
      "llama_model_loader: - tensor  138:             blk.15.attn_q.weight q8_0     [  4096,  4096,     1,     1 ]\n",
      "llama_model_loader: - tensor  139:             blk.15.attn_k.weight q8_0     [  4096,  4096,     1,     1 ]\n",
      "llama_model_loader: - tensor  140:             blk.15.attn_v.weight q8_0     [  4096,  4096,     1,     1 ]\n",
      "llama_model_loader: - tensor  141:        blk.15.attn_output.weight q8_0     [  4096,  4096,     1,     1 ]\n",
      "llama_model_loader: - tensor  142:          blk.15.attn_norm.weight f32      [  4096,     1,     1,     1 ]\n",
      "llama_model_loader: - tensor  143:           blk.15.ffn_gate.weight q8_0     [  4096, 11008,     1,     1 ]\n",
      "llama_model_loader: - tensor  144:           blk.15.ffn_down.weight q8_0     [ 11008,  4096,     1,     1 ]\n",
      "llama_model_loader: - tensor  145:             blk.15.ffn_up.weight q8_0     [  4096, 11008,     1,     1 ]\n",
      "llama_model_loader: - tensor  146:           blk.15.ffn_norm.weight f32      [  4096,     1,     1,     1 ]\n",
      "llama_model_loader: - tensor  147:             blk.16.attn_q.weight q8_0     [  4096,  4096,     1,     1 ]\n",
      "llama_model_loader: - tensor  148:             blk.16.attn_k.weight q8_0     [  4096,  4096,     1,     1 ]\n",
      "llama_model_loader: - tensor  149:             blk.16.attn_v.weight q8_0     [  4096,  4096,     1,     1 ]\n",
      "llama_model_loader: - tensor  150:        blk.16.attn_output.weight q8_0     [  4096,  4096,     1,     1 ]\n",
      "llama_model_loader: - tensor  151:          blk.16.attn_norm.weight f32      [  4096,     1,     1,     1 ]\n",
      "llama_model_loader: - tensor  152:           blk.16.ffn_gate.weight q8_0     [  4096, 11008,     1,     1 ]\n",
      "llama_model_loader: - tensor  153:           blk.16.ffn_down.weight q8_0     [ 11008,  4096,     1,     1 ]\n",
      "llama_model_loader: - tensor  154:             blk.16.ffn_up.weight q8_0     [  4096, 11008,     1,     1 ]\n",
      "llama_model_loader: - tensor  155:           blk.16.ffn_norm.weight f32      [  4096,     1,     1,     1 ]\n",
      "llama_model_loader: - tensor  156:             blk.17.attn_q.weight q8_0     [  4096,  4096,     1,     1 ]\n",
      "llama_model_loader: - tensor  157:             blk.17.attn_k.weight q8_0     [  4096,  4096,     1,     1 ]\n",
      "llama_model_loader: - tensor  158:             blk.17.attn_v.weight q8_0     [  4096,  4096,     1,     1 ]\n",
      "llama_model_loader: - tensor  159:        blk.17.attn_output.weight q8_0     [  4096,  4096,     1,     1 ]\n",
      "llama_model_loader: - tensor  160:          blk.17.attn_norm.weight f32      [  4096,     1,     1,     1 ]\n",
      "llama_model_loader: - tensor  161:           blk.17.ffn_gate.weight q8_0     [  4096, 11008,     1,     1 ]\n",
      "llama_model_loader: - tensor  162:           blk.17.ffn_down.weight q8_0     [ 11008,  4096,     1,     1 ]\n",
      "llama_model_loader: - tensor  163:             blk.17.ffn_up.weight q8_0     [  4096, 11008,     1,     1 ]\n",
      "llama_model_loader: - tensor  164:           blk.17.ffn_norm.weight f32      [  4096,     1,     1,     1 ]\n",
      "llama_model_loader: - tensor  165:             blk.18.attn_q.weight q8_0     [  4096,  4096,     1,     1 ]\n",
      "llama_model_loader: - tensor  166:             blk.18.attn_k.weight q8_0     [  4096,  4096,     1,     1 ]\n",
      "llama_model_loader: - tensor  167:             blk.18.attn_v.weight q8_0     [  4096,  4096,     1,     1 ]\n",
      "llama_model_loader: - tensor  168:        blk.18.attn_output.weight q8_0     [  4096,  4096,     1,     1 ]\n",
      "llama_model_loader: - tensor  169:          blk.18.attn_norm.weight f32      [  4096,     1,     1,     1 ]\n",
      "llama_model_loader: - tensor  170:           blk.18.ffn_gate.weight q8_0     [  4096, 11008,     1,     1 ]\n",
      "llama_model_loader: - tensor  171:           blk.18.ffn_down.weight q8_0     [ 11008,  4096,     1,     1 ]\n",
      "llama_model_loader: - tensor  172:             blk.18.ffn_up.weight q8_0     [  4096, 11008,     1,     1 ]\n",
      "llama_model_loader: - tensor  173:           blk.18.ffn_norm.weight f32      [  4096,     1,     1,     1 ]\n",
      "llama_model_loader: - tensor  174:             blk.19.attn_q.weight q8_0     [  4096,  4096,     1,     1 ]\n",
      "llama_model_loader: - tensor  175:             blk.19.attn_k.weight q8_0     [  4096,  4096,     1,     1 ]\n",
      "llama_model_loader: - tensor  176:             blk.19.attn_v.weight q8_0     [  4096,  4096,     1,     1 ]\n",
      "llama_model_loader: - tensor  177:        blk.19.attn_output.weight q8_0     [  4096,  4096,     1,     1 ]\n",
      "llama_model_loader: - tensor  178:          blk.19.attn_norm.weight f32      [  4096,     1,     1,     1 ]\n",
      "llama_model_loader: - tensor  179:           blk.19.ffn_gate.weight q8_0     [  4096, 11008,     1,     1 ]\n",
      "llama_model_loader: - tensor  180:           blk.19.ffn_down.weight q8_0     [ 11008,  4096,     1,     1 ]\n",
      "llama_model_loader: - tensor  181:             blk.19.ffn_up.weight q8_0     [  4096, 11008,     1,     1 ]\n",
      "llama_model_loader: - tensor  182:           blk.19.ffn_norm.weight f32      [  4096,     1,     1,     1 ]\n",
      "llama_model_loader: - tensor  183:             blk.20.attn_q.weight q8_0     [  4096,  4096,     1,     1 ]\n",
      "llama_model_loader: - tensor  184:             blk.20.attn_k.weight q8_0     [  4096,  4096,     1,     1 ]\n",
      "llama_model_loader: - tensor  185:             blk.20.attn_v.weight q8_0     [  4096,  4096,     1,     1 ]\n",
      "llama_model_loader: - tensor  186:        blk.20.attn_output.weight q8_0     [  4096,  4096,     1,     1 ]\n",
      "llama_model_loader: - tensor  187:          blk.20.attn_norm.weight f32      [  4096,     1,     1,     1 ]\n",
      "llama_model_loader: - tensor  188:           blk.20.ffn_gate.weight q8_0     [  4096, 11008,     1,     1 ]\n",
      "llama_model_loader: - tensor  189:           blk.20.ffn_down.weight q8_0     [ 11008,  4096,     1,     1 ]\n",
      "llama_model_loader: - tensor  190:             blk.20.ffn_up.weight q8_0     [  4096, 11008,     1,     1 ]\n",
      "llama_model_loader: - tensor  191:           blk.20.ffn_norm.weight f32      [  4096,     1,     1,     1 ]\n",
      "llama_model_loader: - tensor  192:             blk.21.attn_q.weight q8_0     [  4096,  4096,     1,     1 ]\n",
      "llama_model_loader: - tensor  193:             blk.21.attn_k.weight q8_0     [  4096,  4096,     1,     1 ]\n",
      "llama_model_loader: - tensor  194:             blk.21.attn_v.weight q8_0     [  4096,  4096,     1,     1 ]\n",
      "llama_model_loader: - tensor  195:        blk.21.attn_output.weight q8_0     [  4096,  4096,     1,     1 ]\n",
      "llama_model_loader: - tensor  196:          blk.21.attn_norm.weight f32      [  4096,     1,     1,     1 ]\n",
      "llama_model_loader: - tensor  197:           blk.21.ffn_gate.weight q8_0     [  4096, 11008,     1,     1 ]\n",
      "llama_model_loader: - tensor  198:           blk.21.ffn_down.weight q8_0     [ 11008,  4096,     1,     1 ]\n",
      "llama_model_loader: - tensor  199:             blk.21.ffn_up.weight q8_0     [  4096, 11008,     1,     1 ]\n",
      "llama_model_loader: - tensor  200:           blk.21.ffn_norm.weight f32      [  4096,     1,     1,     1 ]\n",
      "llama_model_loader: - tensor  201:             blk.22.attn_q.weight q8_0     [  4096,  4096,     1,     1 ]\n",
      "llama_model_loader: - tensor  202:             blk.22.attn_k.weight q8_0     [  4096,  4096,     1,     1 ]\n",
      "llama_model_loader: - tensor  203:             blk.22.attn_v.weight q8_0     [  4096,  4096,     1,     1 ]\n",
      "llama_model_loader: - tensor  204:        blk.22.attn_output.weight q8_0     [  4096,  4096,     1,     1 ]\n",
      "llama_model_loader: - tensor  205:          blk.22.attn_norm.weight f32      [  4096,     1,     1,     1 ]\n",
      "llama_model_loader: - tensor  206:           blk.22.ffn_gate.weight q8_0     [  4096, 11008,     1,     1 ]\n",
      "llama_model_loader: - tensor  207:           blk.22.ffn_down.weight q8_0     [ 11008,  4096,     1,     1 ]\n",
      "llama_model_loader: - tensor  208:             blk.22.ffn_up.weight q8_0     [  4096, 11008,     1,     1 ]\n",
      "llama_model_loader: - tensor  209:           blk.22.ffn_norm.weight f32      [  4096,     1,     1,     1 ]\n",
      "llama_model_loader: - tensor  210:             blk.23.attn_q.weight q8_0     [  4096,  4096,     1,     1 ]\n",
      "llama_model_loader: - tensor  211:             blk.23.attn_k.weight q8_0     [  4096,  4096,     1,     1 ]\n",
      "llama_model_loader: - tensor  212:             blk.23.attn_v.weight q8_0     [  4096,  4096,     1,     1 ]\n",
      "llama_model_loader: - tensor  213:        blk.23.attn_output.weight q8_0     [  4096,  4096,     1,     1 ]\n",
      "llama_model_loader: - tensor  214:          blk.23.attn_norm.weight f32      [  4096,     1,     1,     1 ]\n",
      "llama_model_loader: - tensor  215:           blk.23.ffn_gate.weight q8_0     [  4096, 11008,     1,     1 ]\n",
      "llama_model_loader: - tensor  216:           blk.23.ffn_down.weight q8_0     [ 11008,  4096,     1,     1 ]\n",
      "llama_model_loader: - tensor  217:             blk.23.ffn_up.weight q8_0     [  4096, 11008,     1,     1 ]\n",
      "llama_model_loader: - tensor  218:           blk.23.ffn_norm.weight f32      [  4096,     1,     1,     1 ]\n",
      "llama_model_loader: - tensor  219:             blk.24.attn_q.weight q8_0     [  4096,  4096,     1,     1 ]\n",
      "llama_model_loader: - tensor  220:             blk.24.attn_k.weight q8_0     [  4096,  4096,     1,     1 ]\n",
      "llama_model_loader: - tensor  221:             blk.24.attn_v.weight q8_0     [  4096,  4096,     1,     1 ]\n",
      "llama_model_loader: - tensor  222:        blk.24.attn_output.weight q8_0     [  4096,  4096,     1,     1 ]\n",
      "llama_model_loader: - tensor  223:          blk.24.attn_norm.weight f32      [  4096,     1,     1,     1 ]\n",
      "llama_model_loader: - tensor  224:           blk.24.ffn_gate.weight q8_0     [  4096, 11008,     1,     1 ]\n",
      "llama_model_loader: - tensor  225:           blk.24.ffn_down.weight q8_0     [ 11008,  4096,     1,     1 ]\n",
      "llama_model_loader: - tensor  226:             blk.24.ffn_up.weight q8_0     [  4096, 11008,     1,     1 ]\n",
      "llama_model_loader: - tensor  227:           blk.24.ffn_norm.weight f32      [  4096,     1,     1,     1 ]\n",
      "llama_model_loader: - tensor  228:             blk.25.attn_q.weight q8_0     [  4096,  4096,     1,     1 ]\n",
      "llama_model_loader: - tensor  229:             blk.25.attn_k.weight q8_0     [  4096,  4096,     1,     1 ]\n",
      "llama_model_loader: - tensor  230:             blk.25.attn_v.weight q8_0     [  4096,  4096,     1,     1 ]\n",
      "llama_model_loader: - tensor  231:        blk.25.attn_output.weight q8_0     [  4096,  4096,     1,     1 ]\n",
      "llama_model_loader: - tensor  232:          blk.25.attn_norm.weight f32      [  4096,     1,     1,     1 ]\n",
      "llama_model_loader: - tensor  233:           blk.25.ffn_gate.weight q8_0     [  4096, 11008,     1,     1 ]\n",
      "llama_model_loader: - tensor  234:           blk.25.ffn_down.weight q8_0     [ 11008,  4096,     1,     1 ]\n",
      "llama_model_loader: - tensor  235:             blk.25.ffn_up.weight q8_0     [  4096, 11008,     1,     1 ]\n",
      "llama_model_loader: - tensor  236:           blk.25.ffn_norm.weight f32      [  4096,     1,     1,     1 ]\n",
      "llama_model_loader: - tensor  237:             blk.26.attn_q.weight q8_0     [  4096,  4096,     1,     1 ]\n",
      "llama_model_loader: - tensor  238:             blk.26.attn_k.weight q8_0     [  4096,  4096,     1,     1 ]\n",
      "llama_model_loader: - tensor  239:             blk.26.attn_v.weight q8_0     [  4096,  4096,     1,     1 ]\n",
      "llama_model_loader: - tensor  240:        blk.26.attn_output.weight q8_0     [  4096,  4096,     1,     1 ]\n",
      "llama_model_loader: - tensor  241:          blk.26.attn_norm.weight f32      [  4096,     1,     1,     1 ]\n",
      "llama_model_loader: - tensor  242:           blk.26.ffn_gate.weight q8_0     [  4096, 11008,     1,     1 ]\n",
      "llama_model_loader: - tensor  243:           blk.26.ffn_down.weight q8_0     [ 11008,  4096,     1,     1 ]\n",
      "llama_model_loader: - tensor  244:             blk.26.ffn_up.weight q8_0     [  4096, 11008,     1,     1 ]\n",
      "llama_model_loader: - tensor  245:           blk.26.ffn_norm.weight f32      [  4096,     1,     1,     1 ]\n",
      "llama_model_loader: - tensor  246:             blk.27.attn_q.weight q8_0     [  4096,  4096,     1,     1 ]\n",
      "llama_model_loader: - tensor  247:             blk.27.attn_k.weight q8_0     [  4096,  4096,     1,     1 ]\n",
      "llama_model_loader: - tensor  248:             blk.27.attn_v.weight q8_0     [  4096,  4096,     1,     1 ]\n",
      "llama_model_loader: - tensor  249:        blk.27.attn_output.weight q8_0     [  4096,  4096,     1,     1 ]\n",
      "llama_model_loader: - tensor  250:          blk.27.attn_norm.weight f32      [  4096,     1,     1,     1 ]\n",
      "llama_model_loader: - tensor  251:           blk.27.ffn_gate.weight q8_0     [  4096, 11008,     1,     1 ]\n",
      "llama_model_loader: - tensor  252:           blk.27.ffn_down.weight q8_0     [ 11008,  4096,     1,     1 ]\n",
      "llama_model_loader: - tensor  253:             blk.27.ffn_up.weight q8_0     [  4096, 11008,     1,     1 ]\n",
      "llama_model_loader: - tensor  254:           blk.27.ffn_norm.weight f32      [  4096,     1,     1,     1 ]\n",
      "llama_model_loader: - tensor  255:             blk.28.attn_q.weight q8_0     [  4096,  4096,     1,     1 ]\n",
      "llama_model_loader: - tensor  256:             blk.28.attn_k.weight q8_0     [  4096,  4096,     1,     1 ]\n",
      "llama_model_loader: - tensor  257:             blk.28.attn_v.weight q8_0     [  4096,  4096,     1,     1 ]\n",
      "llama_model_loader: - tensor  258:        blk.28.attn_output.weight q8_0     [  4096,  4096,     1,     1 ]\n",
      "llama_model_loader: - tensor  259:          blk.28.attn_norm.weight f32      [  4096,     1,     1,     1 ]\n",
      "llama_model_loader: - tensor  260:           blk.28.ffn_gate.weight q8_0     [  4096, 11008,     1,     1 ]\n",
      "llama_model_loader: - tensor  261:           blk.28.ffn_down.weight q8_0     [ 11008,  4096,     1,     1 ]\n",
      "llama_model_loader: - tensor  262:             blk.28.ffn_up.weight q8_0     [  4096, 11008,     1,     1 ]\n",
      "llama_model_loader: - tensor  263:           blk.28.ffn_norm.weight f32      [  4096,     1,     1,     1 ]\n",
      "llama_model_loader: - tensor  264:             blk.29.attn_q.weight q8_0     [  4096,  4096,     1,     1 ]\n",
      "llama_model_loader: - tensor  265:             blk.29.attn_k.weight q8_0     [  4096,  4096,     1,     1 ]\n",
      "llama_model_loader: - tensor  266:             blk.29.attn_v.weight q8_0     [  4096,  4096,     1,     1 ]\n",
      "llama_model_loader: - tensor  267:        blk.29.attn_output.weight q8_0     [  4096,  4096,     1,     1 ]\n",
      "llama_model_loader: - tensor  268:          blk.29.attn_norm.weight f32      [  4096,     1,     1,     1 ]\n",
      "llama_model_loader: - tensor  269:           blk.29.ffn_gate.weight q8_0     [  4096, 11008,     1,     1 ]\n",
      "llama_model_loader: - tensor  270:           blk.29.ffn_down.weight q8_0     [ 11008,  4096,     1,     1 ]\n",
      "llama_model_loader: - tensor  271:             blk.29.ffn_up.weight q8_0     [  4096, 11008,     1,     1 ]\n",
      "llama_model_loader: - tensor  272:           blk.29.ffn_norm.weight f32      [  4096,     1,     1,     1 ]\n",
      "llama_model_loader: - tensor  273:             blk.30.attn_q.weight q8_0     [  4096,  4096,     1,     1 ]\n",
      "llama_model_loader: - tensor  274:             blk.30.attn_k.weight q8_0     [  4096,  4096,     1,     1 ]\n",
      "llama_model_loader: - tensor  275:             blk.30.attn_v.weight q8_0     [  4096,  4096,     1,     1 ]\n",
      "llama_model_loader: - tensor  276:        blk.30.attn_output.weight q8_0     [  4096,  4096,     1,     1 ]\n",
      "llama_model_loader: - tensor  277:          blk.30.attn_norm.weight f32      [  4096,     1,     1,     1 ]\n",
      "llama_model_loader: - tensor  278:           blk.30.ffn_gate.weight q8_0     [  4096, 11008,     1,     1 ]\n",
      "llama_model_loader: - tensor  279:           blk.30.ffn_down.weight q8_0     [ 11008,  4096,     1,     1 ]\n",
      "llama_model_loader: - tensor  280:             blk.30.ffn_up.weight q8_0     [  4096, 11008,     1,     1 ]\n",
      "llama_model_loader: - tensor  281:           blk.30.ffn_norm.weight f32      [  4096,     1,     1,     1 ]\n",
      "llama_model_loader: - tensor  282:             blk.31.attn_q.weight q8_0     [  4096,  4096,     1,     1 ]\n",
      "llama_model_loader: - tensor  283:             blk.31.attn_k.weight q8_0     [  4096,  4096,     1,     1 ]\n",
      "llama_model_loader: - tensor  284:             blk.31.attn_v.weight q8_0     [  4096,  4096,     1,     1 ]\n",
      "llama_model_loader: - tensor  285:        blk.31.attn_output.weight q8_0     [  4096,  4096,     1,     1 ]\n",
      "llama_model_loader: - tensor  286:          blk.31.attn_norm.weight f32      [  4096,     1,     1,     1 ]\n",
      "llama_model_loader: - tensor  287:           blk.31.ffn_gate.weight q8_0     [  4096, 11008,     1,     1 ]\n",
      "llama_model_loader: - tensor  288:           blk.31.ffn_down.weight q8_0     [ 11008,  4096,     1,     1 ]\n",
      "llama_model_loader: - tensor  289:             blk.31.ffn_up.weight q8_0     [  4096, 11008,     1,     1 ]\n",
      "llama_model_loader: - tensor  290:           blk.31.ffn_norm.weight f32      [  4096,     1,     1,     1 ]\n",
      "llama_model_loader: - kv   0:                       general.architecture str              = llama\n",
      "llama_model_loader: - kv   1:                               general.name str              = llama-2-7b-chat.ggmlv3.q8_0.bin\n",
      "llama_model_loader: - kv   2:                        general.description str              = converted from legacy GGJTv3 MOSTLY_Q...\n",
      "llama_model_loader: - kv   3:                          general.file_type u32              = 7\n",
      "llama_model_loader: - kv   4:                       llama.context_length u32              = 2048\n",
      "llama_model_loader: - kv   5:                     llama.embedding_length u32              = 4096\n",
      "llama_model_loader: - kv   6:                          llama.block_count u32              = 32\n",
      "llama_model_loader: - kv   7:                  llama.feed_forward_length u32              = 11008\n",
      "llama_model_loader: - kv   8:                 llama.rope.dimension_count u32              = 128\n",
      "llama_model_loader: - kv   9:                 llama.attention.head_count u32              = 32\n",
      "llama_model_loader: - kv  10:              llama.attention.head_count_kv u32              = 32\n",
      "llama_model_loader: - kv  11:     llama.attention.layer_norm_rms_epsilon f32              = 0.000005\n",
      "llama_model_loader: - kv  12:                       tokenizer.ggml.model str              = llama\n",
      "llama_model_loader: - kv  13:                      tokenizer.ggml.tokens arr[str,32000]   = [\"<unk>\", \"<s>\", \"</s>\", \"<0x00>\", \"<...\n",
      "llama_model_loader: - kv  14:                      tokenizer.ggml.scores arr[f32,32000]   = [0.000000, 0.000000, 0.000000, 0.0000...\n",
      "llama_model_loader: - kv  15:                  tokenizer.ggml.token_type arr[i32,32000]   = [2, 3, 3, 6, 6, 6, 6, 6, 6, 6, 6, 6, ...\n",
      "llama_model_loader: - kv  16:            tokenizer.ggml.unknown_token_id u32              = 0\n",
      "llama_model_loader: - kv  17:                tokenizer.ggml.bos_token_id u32              = 1\n",
      "llama_model_loader: - kv  18:                tokenizer.ggml.eos_token_id u32              = 2\n",
      "llama_model_loader: - type  f32:   65 tensors\n",
      "llama_model_loader: - type q8_0:  226 tensors\n",
      "llm_load_vocab: special tokens definition check successful ( 259/32000 ).\n",
      "llm_load_print_meta: format           = GGUF V3 (latest)\n",
      "llm_load_print_meta: arch             = llama\n",
      "llm_load_print_meta: vocab type       = SPM\n",
      "llm_load_print_meta: n_vocab          = 32000\n",
      "llm_load_print_meta: n_merges         = 0\n",
      "llm_load_print_meta: n_ctx_train      = 2048\n",
      "llm_load_print_meta: n_embd           = 4096\n",
      "llm_load_print_meta: n_head           = 32\n",
      "llm_load_print_meta: n_head_kv        = 32\n",
      "llm_load_print_meta: n_layer          = 32\n",
      "llm_load_print_meta: n_rot            = 128\n",
      "llm_load_print_meta: n_gqa            = 1\n",
      "llm_load_print_meta: f_norm_eps       = 0.0e+00\n",
      "llm_load_print_meta: f_norm_rms_eps   = 5.0e-06\n",
      "llm_load_print_meta: f_clamp_kqv      = 0.0e+00\n",
      "llm_load_print_meta: f_max_alibi_bias = 0.0e+00\n",
      "llm_load_print_meta: n_ff             = 11008\n",
      "llm_load_print_meta: rope scaling     = linear\n",
      "llm_load_print_meta: freq_base_train  = 10000.0\n",
      "llm_load_print_meta: freq_scale_train = 1\n",
      "llm_load_print_meta: n_yarn_orig_ctx  = 2048\n",
      "llm_load_print_meta: rope_finetuned   = unknown\n",
      "llm_load_print_meta: model type       = 7B\n",
      "llm_load_print_meta: model ftype      = mostly Q8_0\n",
      "llm_load_print_meta: model params     = 6.74 B\n",
      "llm_load_print_meta: model size       = 6.67 GiB (8.50 BPW) \n",
      "llm_load_print_meta: general.name   = llama-2-7b-chat.ggmlv3.q8_0.bin\n",
      "llm_load_print_meta: BOS token = 1 '<s>'\n",
      "llm_load_print_meta: EOS token = 2 '</s>'\n",
      "llm_load_print_meta: UNK token = 0 '<unk>'\n",
      "llm_load_print_meta: LF token  = 13 '<0x0A>'\n",
      "llm_load_tensors: ggml ctx size =    0.11 MiB\n",
      "llm_load_tensors: mem required  = 6828.75 MiB\n",
      "...................................................................................................\n",
      "llama_new_context_with_model: n_ctx      = 512\n",
      "llama_new_context_with_model: freq_base  = 10000.0\n",
      "llama_new_context_with_model: freq_scale = 1\n",
      "llama_new_context_with_model: kv self size  =  256.00 MiB\n",
      "llama_build_graph: non-view tensors processed: 740/740\n",
      "llama_new_context_with_model: compute buffer total size = 73.56 MiB\n",
      "AVX = 1 | AVX2 = 1 | AVX512 = 0 | AVX512_VBMI = 0 | AVX512_VNNI = 0 | FMA = 1 | NEON = 0 | ARM_FMA = 0 | F16C = 1 | FP16_VA = 0 | WASM_SIMD = 0 | BLAS = 1 | SSE3 = 1 | SSSE3 = 1 | VSX = 0 | \n"
     ]
    }
   ],
   "source": [
    "# load the large language model file\n",
    "from llama_cpp import Llama\n",
    "LLM = Llama(model_path=\"../data/llama/llama-2-7b-chat.ggmlv3.q8_0.gguf\")"
   ]
  },
  {
   "cell_type": "code",
   "execution_count": 95,
   "id": "0eb91740-8271-4cad-9947-8a4809898c89",
   "metadata": {},
   "outputs": [
    {
     "name": "stdout",
     "output_type": "stream",
     "text": [
      " The names of the days of the week in English are: Monday, Tuesday, Wednesday, Thursday, Friday, Saturday and Sunday.\n"
     ]
    },
    {
     "name": "stderr",
     "output_type": "stream",
     "text": [
      "\n",
      "llama_print_timings:        load time =   14159.15 ms\n",
      "llama_print_timings:      sample time =       6.93 ms /    33 runs   (    0.21 ms per token,  4761.22 tokens per second)\n",
      "llama_print_timings: prompt eval time =   14159.08 ms /    16 tokens (  884.94 ms per token,     1.13 tokens per second)\n",
      "llama_print_timings:        eval time =    7441.48 ms /    32 runs   (  232.55 ms per token,     4.30 tokens per second)\n",
      "llama_print_timings:       total time =   21679.07 ms\n"
     ]
    }
   ],
   "source": [
    "# create a text prompt\n",
    "prompt = \"Q: What are the names of the days of the week? A:\"\n",
    "\n",
    "# generate a response (takes several seconds)\n",
    "output = LLM(prompt)\n",
    "\n",
    "# display the response\n",
    "print(output[\"choices\"][0][\"text\"])"
   ]
  },
  {
   "cell_type": "code",
   "execution_count": 96,
   "id": "d47b4da4-b77b-4d35-add1-9071cfd8d89f",
   "metadata": {},
   "outputs": [
    {
     "data": {
      "text/plain": [
       "{'id': 'cmpl-315ea745-9859-42f9-8015-999a834b8f50',\n",
       " 'object': 'text_completion',\n",
       " 'created': 1701696499,\n",
       " 'model': '../data/llama/llama-2-7b-chat.ggmlv3.q8_0.gguf',\n",
       " 'choices': [{'text': ' The names of the days of the week in English are: Monday, Tuesday, Wednesday, Thursday, Friday, Saturday and Sunday.',\n",
       "   'index': 0,\n",
       "   'logprobs': None,\n",
       "   'finish_reason': 'stop'}],\n",
       " 'usage': {'prompt_tokens': 16, 'completion_tokens': 32, 'total_tokens': 48}}"
      ]
     },
     "execution_count": 96,
     "metadata": {},
     "output_type": "execute_result"
    }
   ],
   "source": [
    "output"
   ]
  },
  {
   "cell_type": "markdown",
   "id": "4513bf53-ebda-480e-a030-1c09baa24a3e",
   "metadata": {},
   "source": [
    "## Try on data"
   ]
  },
  {
   "cell_type": "code",
   "execution_count": 99,
   "id": "e5f66ed6-d60f-4236-9827-62b394f20853",
   "metadata": {},
   "outputs": [
    {
     "data": {
      "text/plain": [
       "\"2.2 HSEQ On the M07-07 well number of incidents/near misses occurred, as indicated below: The first incident happened during the rig move on the 1st of June 2010. The rig was pinned on stand-off location at Cirrus M7-A platform. The anchor was issued to tug MV Elbe. It is not clear what exactly happened, the statement of the IP was not clear. Deck crew was connecting the towing wire with shackle to the buoy. The IP was inserting safety pin when the wire suddenly tensioned. The thumb of the IP's left hand got trapped between the shackle and the Karmfork. The statement of the IP is not clear as he himself did not comprehend what happened. The captain of the Elbe required medical assistance from the rig medic. The IP was capable of walking to and stepping on the Billy Pugh for transport with assistance of NLB crewmember. On board the IP was examined. The IP had trapped his left thumb sustaining approximately 2cm open wound over the top of first left thumb joint On the 4th of July 2010, the second incident occurred, 30 cc base oil spilled into sea. The problem occurred with the base oil wash pump for the shakers. Lars Hansen (the SCS engineer) changed out the pump for spare. He disconnected the used pump and lined up spare pump. It was observed that base oil drips were coming from the beam below shakers. The shaker hand closed in base oil supply. It was determined that there was failure of seal on the crowfoot hose connection. The beams were cleaned instantly with rags and no further oil dripped into the sea.\""
      ]
     },
     "execution_count": 99,
     "metadata": {},
     "output_type": "execute_result"
    }
   ],
   "source": [
    "short_text = \"\"\"2.2 HSEQ On the M07-07 well number of incidents/near misses occurred, as indicated below: The first incident happened during the rig move on the 1st of June 2010. The rig was pinned on stand-off location at Cirrus M7-A platform. The anchor was issued to tug MV Elbe. It is not clear what exactly happened, the statement of the IP was not clear. Deck crew was connecting the towing wire with shackle to the buoy. The IP was inserting safety pin when the wire suddenly tensioned. The thumb of the IP's left hand got trapped between the shackle and the Karmfork. The statement of the IP is not clear as he himself did not comprehend what happened. The captain of the Elbe required medical assistance from the rig medic. The IP was capable of walking to and stepping on the Billy Pugh for transport with assistance of NLB crewmember. On board the IP was examined. The IP had trapped his left thumb sustaining approximately 2cm open wound over the top of first left thumb joint On the 4th of July 2010, the second incident occurred, 30 cc base oil spilled into sea. The problem occurred with the base oil wash pump for the shakers. Lars Hansen (the SCS engineer) changed out the pump for spare. He disconnected the used pump and lined up spare pump. It was observed that base oil drips were coming from the beam below shakers. The shaker hand closed in base oil supply. It was determined that there was failure of seal on the crowfoot hose connection. The beams were cleaned instantly with rags and no further oil dripped into the sea.\"\"\"\n",
    "short_text  # Removed last paragraph."
   ]
  },
  {
   "cell_type": "code",
   "execution_count": 102,
   "id": "9dc03c7a-efae-4a3a-80e8-fa08e76e4511",
   "metadata": {},
   "outputs": [],
   "source": [
    "prompt = (\n",
    "    f\"\"\"Q: In the following paragraph, 'IP' refers to 'injured party'. Please identify any personally identifiable \"\"\"\n",
    "    f\"\"\"information (PII, such as personal names, email addresses, etc) in the following paragraph. Note that there \"\"\"\n",
    "    f\"\"\"might be none.\\n\\n{short_text}\\n\\nA:\"\"\"\n",
    ")"
   ]
  },
  {
   "cell_type": "code",
   "execution_count": 107,
   "id": "11dacd52-84a2-46aa-8d99-703faa27d048",
   "metadata": {},
   "outputs": [
    {
     "name": "stderr",
     "output_type": "stream",
     "text": [
      "Llama.generate: prefix-match hit\n"
     ]
    },
    {
     "name": "stdout",
     "output_type": "stream",
     "text": [
      " The following information was identified as potentially identifiable in the provided paragraph:\n",
      "1. Name (Lars Hansen)\n",
      "2. Email address (not provided)\n",
      "3. Personal names (IP, captain of the Elbe)\n",
      "4. Contact information (not provided)\n"
     ]
    },
    {
     "name": "stderr",
     "output_type": "stream",
     "text": [
      "\n",
      "llama_print_timings:        load time =   14159.15 ms\n",
      "llama_print_timings:      sample time =      17.25 ms /    57 runs   (    0.30 ms per token,  3305.11 tokens per second)\n",
      "llama_print_timings: prompt eval time =       0.00 ms /     1 tokens (    0.00 ms per token,      inf tokens per second)\n",
      "llama_print_timings:        eval time =   14562.78 ms /    57 runs   (  255.49 ms per token,     3.91 tokens per second)\n",
      "llama_print_timings:       total time =   14755.03 ms\n"
     ]
    }
   ],
   "source": [
    "output = LLM(prompt, temperature=0.9)\n",
    "\n",
    "# display the response\n",
    "print(output[\"choices\"][0][\"text\"])"
   ]
  },
  {
   "cell_type": "markdown",
   "id": "3afc1581-fbfb-4974-afd5-a51366ae8b25",
   "metadata": {},
   "source": [
    "## ChatGPT"
   ]
  },
  {
   "cell_type": "code",
   "execution_count": 116,
   "id": "fe09d0d4-847e-433a-9118-ead54a9504bb",
   "metadata": {},
   "outputs": [
    {
     "name": "stdout",
     "output_type": "stream",
     "text": [
      "The personally identifiable information in the paragraph is the name 'Lars Hansen'.\n"
     ]
    }
   ],
   "source": [
    "from openai import AzureOpenAI\n",
    "from openai.types import Embedding\n",
    "from dotenv import load_dotenv\n",
    "import os\n",
    "\n",
    "# Load the shared environment variables.\n",
    "load_dotenv(\"../.env.shared\")\n",
    "load_dotenv(\"../.env.secret\")\n",
    "\n",
    "client = AzureOpenAI(\n",
    "    api_version=os.environ[\"OPENAI_API_VERSION\"],\n",
    "    azure_endpoint=os.environ[\"OPENAI_API_BASE\"],\n",
    "    api_key=os.environ[\"OPENAI_API_KEY\"]\n",
    ")\n",
    "\n",
    "model = os.environ[\"GPT432k_DEPLOYMENT\"]\n",
    "\n",
    "question = (\n",
    "    \"\"\"Q: In the following paragraph, 'IP' refers to 'injured party'. Please identify any personally identifiable \"\"\"\n",
    "    \"\"\"information (PII, such as personal names, email addresses, etc) in the following paragraph. Note that there \"\"\"\n",
    "    \"\"\"might be none.\\n\\n{}\\n\\nA:\"\"\"\n",
    ")\n",
    "\n",
    "prompt = question.format(text)\n",
    "\n",
    "completion = client.chat.completions.create(model=model, messages=[{\"role\": \"user\", \"content\": prompt}])\n",
    "\n",
    "print(completion.choices[0].message.content)"
   ]
  },
  {
   "cell_type": "code",
   "execution_count": 117,
   "id": "c35a61d0-b69d-46c2-a5d8-318cb80bc57b",
   "metadata": {},
   "outputs": [
    {
     "data": {
      "text/plain": [
       "Choice(finish_reason='stop', index=0, message=ChatCompletionMessage(content=\"The personally identifiable information in the paragraph is the name 'Lars Hansen'.\", role='assistant', function_call=None, tool_calls=None), content_filter_results={'hate': {'filtered': False, 'severity': 'safe'}, 'self_harm': {'filtered': False, 'severity': 'safe'}, 'sexual': {'filtered': False, 'severity': 'safe'}, 'violence': {'filtered': False, 'severity': 'safe'}})"
      ]
     },
     "execution_count": 117,
     "metadata": {},
     "output_type": "execute_result"
    }
   ],
   "source": [
    "completion.choices[0]"
   ]
  },
  {
   "cell_type": "markdown",
   "id": "855ac4d0-e20f-467d-8040-280fadb036d4",
   "metadata": {},
   "source": [
    "### Without PII"
   ]
  },
  {
   "cell_type": "code",
   "execution_count": 112,
   "id": "ac27a21c-e42f-46fc-b82a-06ef691ec5c4",
   "metadata": {},
   "outputs": [],
   "source": [
    "text0 = force_llm_dataset_scrubbed['train'][140]['raw_content']"
   ]
  },
  {
   "cell_type": "code",
   "execution_count": 118,
   "id": "9099ef96-d463-4d76-9760-65331800d8f3",
   "metadata": {},
   "outputs": [
    {
     "name": "stdout",
     "output_type": "stream",
     "text": [
      "This paragraph does not contain any personally identifiable information (PII).\n"
     ]
    }
   ],
   "source": [
    "prompt = question.format(text0)\n",
    "\n",
    "completion = client.chat.completions.create(model=model, messages=[{\"role\": \"user\", \"content\": prompt}])\n",
    "\n",
    "print(completion.choices[0].message.content)"
   ]
  },
  {
   "cell_type": "markdown",
   "id": "6e316f66-c5f1-41ed-9289-4a2724f64533",
   "metadata": {},
   "source": [
    "## Strategy"
   ]
  },
  {
   "cell_type": "markdown",
   "id": "51958353-1a10-4e24-99dc-8e09ceb9bec4",
   "metadata": {},
   "source": [
    "- Clear documents with a cheap thing (eg Presidio)\n",
    "- Analyse what's left with an LLM"
   ]
  },
  {
   "cell_type": "code",
   "execution_count": null,
   "id": "407deef6-1672-414b-a062-897238862076",
   "metadata": {},
   "outputs": [],
   "source": []
  },
  {
   "cell_type": "markdown",
   "id": "a079c5c3-6c67-48ea-a628-13fbd11ea0cb",
   "metadata": {},
   "source": [
    "## Ideas\n",
    "\n",
    "### Redaction with references\n",
    "\n",
    "- Smart redaction -- instead of replacing a personal name with `<PERSON>` (or whatever), it would be better to use something like \"The captain of the vessel\" or \"The first author of the X report\" or whatever. A lot of meaning could be lost by replacing 3 different people's names with PERSON.\n",
    "- Even better if these impersonal references can also be preserved across a document, or across multiple documents. At the very least PERSON_1, PERSON_2, etc.\n",
    "- Given a knowledge graph, or access to org chart, job titles could be subbed for names pretty easily.\n",
    "- It seems like GPT might have a chance of this kind of task.\n",
    "\n",
    "### Etc"
   ]
  },
  {
   "cell_type": "code",
   "execution_count": null,
   "id": "91f20a40-832b-4cf1-b4a1-f8573a8caf15",
   "metadata": {},
   "outputs": [],
   "source": []
  }
 ],
 "metadata": {
  "kernelspec": {
   "display_name": "py311",
   "language": "python",
   "name": "py311"
  },
  "language_info": {
   "codemirror_mode": {
    "name": "ipython",
    "version": 3
   },
   "file_extension": ".py",
   "mimetype": "text/x-python",
   "name": "python",
   "nbconvert_exporter": "python",
   "pygments_lexer": "ipython3",
   "version": "3.11.6"
  }
 },
 "nbformat": 4,
 "nbformat_minor": 5
}
